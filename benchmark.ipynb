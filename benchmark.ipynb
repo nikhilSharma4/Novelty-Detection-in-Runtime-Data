{
 "cells": [
  {
   "cell_type": "code",
   "execution_count": 58,
   "id": "448fe5d2-e9fd-4616-b012-e07aa9fa5507",
   "metadata": {},
   "outputs": [],
   "source": [
    "import numpy as np\n",
    "import matplotlib.pyplot as plt\n",
    "import os\n",
    "import pandas as pd\n",
    "import sklearn\n",
    "from xgboost import XGBRegressor\n",
    "import numpy as np\n",
    "from sklearn.model_selection import train_test_split\n",
    "from sklearn.metrics import classification_report\n",
    "from sklearn.cluster import DBSCAN\n",
    "from sklearn.svm import OneClassSVM\n",
    "import tensorflow as tf\n",
    "from tensorflow.keras.models import Model\n",
    "from tensorflow.keras.layers import Input, Dense, LSTM\n",
    "from sklearn.metrics import classification_report\n",
    "from sklearn.metrics import accuracy_score,confusion_matrix\n",
    "from sklearn.metrics import f1_score\n",
    "import joblib\n",
    "from sklearn.cluster import KMeans\n",
    "from tensorflow.keras.models import load_model\n",
    "import warnings\n",
    "warnings.filterwarnings('ignore')\n",
    "import seaborn as sns"
   ]
  },
  {
   "cell_type": "code",
   "execution_count": 49,
   "id": "2c29c8b2-d5ba-49bf-b9dc-d5b37c7093ec",
   "metadata": {},
   "outputs": [],
   "source": [
    "import numpy as np\n",
    "\n",
    "# Manually creating lists of file paths\n",
    "trace_files = [\n",
    "    \"dataset/trace_0.npy\", \"dataset/trace_3.npy\", \"dataset/trace_4.npy\", \n",
    "    # \"dataset/trace_5.npy\",\n",
    "    \"dataset/trace_6.npy\", \"dataset/trace_7.npy\", \n",
    "    \"dataset/trace_8.npy\", \"dataset/trace_9.npy\", \"dataset/trace_10.npy\"\n",
    "]\n",
    "\n",
    "gt_files = [\n",
    "    \"dataset/gt_0.npy\", \"dataset/gt_2.npy\", \"dataset/gt_3.npy\", \n",
    "    # \"dataset/gt_4.npy\", \n",
    "    \"dataset/gt_5.npy\", \"dataset/gt_6.npy\", \n",
    "    \"dataset/gt_7.npy\", \"dataset/gt_8.npy\", \"dataset/gt_9.npy\"\n",
    "]\n",
    "\n",
    "trace = np.concatenate([np.load(f) for f in trace_files])\n",
    "gt = np.concatenate([np.load(f) for f in gt_files])\n",
    "train_sequences = []\n",
    "novel_sequences = []\n",
    "\n",
    "for i in range(0, len(trace), 1200):\n",
    "    sequence = trace[i:i+1200]\n",
    "    ground_truth = gt[i:i+1200]\n",
    "\n",
    "\n",
    "    if(len(sequence) != 1200):\n",
    "        continue\n",
    "    \n",
    "    isNovel = False\n",
    "    count = 0\n",
    "    for truth in ground_truth:\n",
    "        if truth == 2: \n",
    "            # count = count + 1\n",
    "            # if count > 500:\n",
    "                isNovel = True\n",
    "                break\n",
    "    if isNovel:\n",
    "        novel_sequences.append(sequence)\n",
    "        pass\n",
    "    else: \n",
    "        train_sequences.append(sequence)\n",
    "\n",
    "train_sequences_array = np.array(train_sequences)\n",
    "novel_sequences_array = np.array(novel_sequences)\n",
    "train_sequences_array.shape, novel_sequences_array.shape\n",
    "\n",
    "X_train_reshaped = train_sequences_array.reshape(train_sequences_array.shape[0], -1)\n",
    "\n",
    "X_train, X_val = train_test_split(X_train_reshaped, test_size=0.2, random_state=0)\n",
    "\n",
    "novel_sequences_reshaped = novel_sequences_array.reshape(novel_sequences_array.shape[0], -1)\n",
    "\n",
    "# Concatenating with the validation set\n",
    "X_test = np.concatenate((X_val, novel_sequences_reshaped), axis=0)"
   ]
  },
  {
   "cell_type": "markdown",
   "id": "a1653e91-11a5-4b17-876c-812336ecdffb",
   "metadata": {},
   "source": [
    "# XGBoost\n"
   ]
  },
  {
   "cell_type": "code",
   "execution_count": 57,
   "id": "e8c99e11-a9c9-43cc-a39c-50d98480803f",
   "metadata": {},
   "outputs": [
    {
     "name": "stdout",
     "output_type": "stream",
     "text": [
      "              precision    recall  f1-score   support\n",
      "\n",
      "         0.0       0.99      1.00      1.00       346\n",
      "         1.0       0.99      0.99      0.99       194\n",
      "\n",
      "    accuracy                           0.99       540\n",
      "   macro avg       0.99      0.99      0.99       540\n",
      "weighted avg       0.99      0.99      0.99       540\n",
      "\n",
      "Overall F1 Score: 0.9944444444444445\n"
     ]
    },
    {
     "data": {
      "text/plain": [
       "<Axes: >"
      ]
     },
     "execution_count": 57,
     "metadata": {},
     "output_type": "execute_result"
    },
    {
     "data": {
      "image/png": "[encoded data removed]",
      "text/plain": [
       "<Figure size 640x480 with 2 Axes>"
      ]
     },
     "metadata": {},
     "output_type": "display_data"
    }
   ],
   "source": [
    "from xgboost import XGBRegressor\n",
    "\n",
    "# Create a model instance\n",
    "loaded_model = XGBRegressor()\n",
    "\n",
    "# Load the model from the file\n",
    "loaded_model.load_model('xgb_model.bin')\n",
    "batch_size = 10000 \n",
    "error = np.empty_like(X_test)\n",
    "\n",
    "# Process in batches to avoid memory issues\n",
    "for i in range(0, len(X_test), batch_size):\n",
    "    end = min(i + batch_size, len(X_test))\n",
    "    batch_pred = loaded_model.predict(X_test[i:end])\n",
    "    \n",
    "    # Ensure that batch_pred is reshaped to match the dimensions of X_test\n",
    "    # If X_test is 2D (n_samples, n_features), batch_pred should also be reshaped to this format\n",
    "    batch_pred_reshaped = batch_pred.reshape(-1, X_test.shape[1])\n",
    "    \n",
    "    # Calculate the error for this batch\n",
    "    error[i:end] = X_test[i:end] - batch_pred_reshaped\n",
    "from sklearn.metrics import classification_report\n",
    "\n",
    "# Assuming error is already computed\n",
    "threshold = np.percentile(np.abs(error), 95)\n",
    "anomalies = np.abs(error) > threshold\n",
    "\n",
    "# Assuming X_test_train and novel_sequences_array are already defined and correctly shaped\n",
    "gt_test = np.concatenate((np.zeros(len(X_val)), np.ones(len(novel_sequences_array))))\n",
    "\n",
    "# Reshape anomalies to match the shape of X_test and then convert to binary format\n",
    "anomalies_reshaped = anomalies.reshape(X_test.shape[0], -1)\n",
    "anomalies_binary = anomalies_reshaped.any(axis=1).astype(int)\n",
    "\n",
    "# Classification report to evaluate model performance\n",
    "print(classification_report(gt_test, anomalies_binary))\n",
    "\n",
    "overall_f1 = f1_score(gt_test, anomalies_binary, average='micro')\n",
    "\n",
    "print(\"Overall F1 Score:\", overall_f1)\n",
    "\n",
    "sns.heatmap(confusion_matrix(gt_test,anomalies_binary),annot = True,fmt='g')"
   ]
  },
  {
   "cell_type": "markdown",
   "id": "f4f7f21c-f2c0-4553-82e5-80ae7385c164",
   "metadata": {},
   "source": [
    "# KMeans"
   ]
  },
  {
   "cell_type": "code",
   "execution_count": 44,
   "id": "a3eec8db-e95c-4548-a5d4-741c0a6089c0",
   "metadata": {},
   "outputs": [
    {
     "name": "stdout",
     "output_type": "stream",
     "text": [
      "              precision    recall  f1-score   support\n",
      "\n",
      "         0.0       0.99      1.00      0.99       346\n",
      "         1.0       1.00      0.97      0.99       194\n",
      "\n",
      "    accuracy                           0.99       540\n",
      "   macro avg       0.99      0.99      0.99       540\n",
      "weighted avg       0.99      0.99      0.99       540\n",
      "\n",
      "Overall F1 Score: 0.9907407407407407\n"
     ]
    }
   ],
   "source": [
    "kmeans = joblib.load('kmeans.pkl')\n",
    "# Find the distance of each point in the test set to the nearest cluster center\n",
    "distances = kmeans.transform(X_test)\n",
    "min_distances = np.min(distances, axis=1)\n",
    "\n",
    "threshold = np.percentile(min_distances, 65)  \n",
    "\n",
    "# Identify novelties\n",
    "# A novelty in this case is a data point whose distance to the nearest cluster center is greater than the threshold\n",
    "novelties = min_distances > threshold\n",
    "\n",
    "# Ground truth - assuming the first part of X_test is normal (0) and the latter part is novel/anomalous (1)\n",
    "ground_truth = np.concatenate((np.zeros(len(X_val)), np.ones(len(novel_sequences_array))))\n",
    "\n",
    "# Classification report\n",
    "print(classification_report(ground_truth, novelties))\n",
    "\n",
    "\n",
    "overall_f1 = f1_score(ground_truth, novelties, average='micro')\n",
    "\n",
    "print(\"Overall F1 Score:\", overall_f1)"
   ]
  },
  {
   "cell_type": "markdown",
   "id": "f0502cad-96ca-45b7-993f-11876475e436",
   "metadata": {},
   "source": [
    "# Autoencoder"
   ]
  },
  {
   "cell_type": "code",
   "execution_count": 43,
   "id": "5076235d-136f-4f99-8a17-5fc916491a3a",
   "metadata": {},
   "outputs": [
    {
     "name": "stdout",
     "output_type": "stream",
     "text": [
      "17/17 [==============================] - 5s 73ms/step\n",
      "              precision    recall  f1-score   support\n",
      "\n",
      "         0.0       0.95      0.96      0.96       346\n",
      "         1.0       0.93      0.91      0.92       194\n",
      "\n",
      "    accuracy                           0.94       540\n",
      "   macro avg       0.94      0.93      0.94       540\n",
      "weighted avg       0.94      0.94      0.94       540\n",
      "\n",
      "Overall F1 Score: 0.9425925925925925\n"
     ]
    }
   ],
   "source": [
    "autoencoder = load_model('autoencoder_model.h5')\n",
    "y_test_pred = autoencoder.predict(X_test)\n",
    "# Calculate the reconstruction error\n",
    "reconstruction_error = np.mean(np.abs(X_test- y_test_pred), axis=1)\n",
    "\n",
    "# Set a threshold for anomaly detection\n",
    "threshold = np.percentile(reconstruction_error, 65)\n",
    "\n",
    "# Detect anomalies\n",
    "anomalies = reconstruction_error > threshold\n",
    "\n",
    "# Evaluation\n",
    "ground_truth = np.concatenate((np.zeros(len(X_val)), np.ones(len(novel_sequences_array))))\n",
    "# print(\"Shapes - true_anomalies:\", true_anomalies.shape, \"anomalies:\", anomalies.shape)\n",
    "print(classification_report(ground_truth, anomalies))\n",
    "\n",
    "overall_f1 = f1_score(ground_truth, anomalies, average='micro')\n",
    "\n",
    "print(\"Overall F1 Score:\", overall_f1)"
   ]
  },
  {
   "cell_type": "code",
   "execution_count": null,
   "id": "56dc192d-fe58-4d94-81d0-ebd3cde3e555",
   "metadata": {},
   "outputs": [],
   "source": []
  },
  {
   "cell_type": "code",
   "execution_count": null,
   "id": "fe686e6a-2809-4557-9d8a-febf91878996",
   "metadata": {},
   "outputs": [],
   "source": []
  },
  {
   "cell_type": "code",
   "execution_count": null,
   "id": "c4309436-2b23-4058-b32b-f28a897b60f6",
   "metadata": {},
   "outputs": [],
   "source": []
  },
  {
   "cell_type": "markdown",
   "id": "14dd8f59-8a61-4205-97ea-eda142707674",
   "metadata": {},
   "source": [
    "# GPU TESTING\n"
   ]
  },
  {
   "cell_type": "code",
   "execution_count": 26,
   "id": "4f5e4986-4ccb-4bb4-98aa-df921b1bad3b",
   "metadata": {},
   "outputs": [],
   "source": [
    "gpus = tf.config.experimental.list_physical_devices('GPU')\n",
    "if gpus:\n",
    "    try:\n",
    "        for gpu in gpus:\n",
    "            tf.config.experimental.set_memory_growth(gpu, True)\n",
    "    except RuntimeError as e:\n",
    "        print(e)\n"
   ]
  },
  {
   "cell_type": "code",
   "execution_count": null,
   "id": "d0c3b2e9-dda6-4261-9050-15b2b79dfa1c",
   "metadata": {},
   "outputs": [],
   "source": []
  },
  {
   "cell_type": "code",
   "execution_count": 25,
   "id": "1c1b50fd-1e9a-48b3-968a-4cd35947d99e",
   "metadata": {},
   "outputs": [
    {
     "name": "stdout",
     "output_type": "stream",
     "text": [
      "No GPUs available.\n"
     ]
    }
   ],
   "source": [
    "import tensorflow as tf\n",
    "\n",
    "# Check available GPUs\n",
    "gpus = tf.config.list_physical_devices('GPU')\n",
    "\n",
    "# If GPUs are detected, we'll print their details\n",
    "if gpus:\n",
    "    try:\n",
    "        # Currently, memory growth needs to be the same across GPUs\n",
    "        for gpu in gpus:\n",
    "            tf.config.experimental.set_memory_growth(gpu, True)\n",
    "        print(f\"GPUs available: {len(gpus)} - Details: {gpus}\")\n",
    "    except RuntimeError as e:\n",
    "        # Memory growth must be set before GPUs have been initialized\n",
    "        print(e)\n",
    "else:\n",
    "    print(\"No GPUs available.\")\n"
   ]
  },
  {
   "cell_type": "code",
   "execution_count": null,
   "id": "a0a38ed7-a10c-46e6-b77d-93c462f3383b",
   "metadata": {},
   "outputs": [],
   "source": []
  },
  {
   "cell_type": "code",
   "execution_count": null,
   "id": "30f44489-f8ee-485f-94b3-84ab0ef31123",
   "metadata": {},
   "outputs": [],
   "source": []
  },
  {
   "cell_type": "code",
   "execution_count": null,
   "id": "72c723b4-2db3-4b63-94c5-395beae0dcb0",
   "metadata": {},
   "outputs": [],
   "source": []
  },
  {
   "cell_type": "code",
   "execution_count": null,
   "id": "d5b6c9d3-9aa8-488d-8361-e9f9a1d5b526",
   "metadata": {},
   "outputs": [],
   "source": []
  },
  {
   "cell_type": "code",
   "execution_count": null,
   "id": "b272c840-a239-41c2-97ef-97b9c3c7bbd4",
   "metadata": {},
   "outputs": [],
   "source": []
  }
 ],
 "metadata": {
  "kernelspec": {
   "display_name": "Python 3 (ipykernel)",
   "language": "python",
   "name": "python3"
  },
  "language_info": {
   "codemirror_mode": {
    "name": "ipython",
    "version": 3
   },
   "file_extension": ".py",
   "mimetype": "text/x-python",
   "name": "python",
   "nbconvert_exporter": "python",
   "pygments_lexer": "ipython3",
   "version": "3.8.10"
  }
 },
 "nbformat": 4,
 "nbformat_minor": 5
}
