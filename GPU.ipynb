{
 "cells": [
  {
   "cell_type": "code",
   "execution_count": 1,
   "id": "39b5d754-3e23-49d0-8833-339a7f377ee4",
   "metadata": {},
   "outputs": [
    {
     "name": "stdout",
     "output_type": "stream",
     "text": [
      "Wed Feb 14 10:27:01 2024       \n",
      "+---------------------------------------------------------------------------------------+\n",
      "| NVIDIA-SMI 545.23.06              Driver Version: 545.23.06    CUDA Version: 12.3     |\n",
      "|-----------------------------------------+----------------------+----------------------+\n",
      "| GPU  Name                 Persistence-M | Bus-Id        Disp.A | Volatile Uncorr. ECC |\n",
      "| Fan  Temp   Perf          Pwr:Usage/Cap |         Memory-Usage | GPU-Util  Compute M. |\n",
      "|                                         |                      |               MIG M. |\n",
      "|=========================================+======================+======================|\n",
      "|   0  NVIDIA TITAN Xp                Off | 00000000:05:00.0  On |                  N/A |\n",
      "| 45%   72C    P2              79W / 250W |   5855MiB / 12288MiB |     31%      Default |\n",
      "|                                         |                      |                  N/A |\n",
      "+-----------------------------------------+----------------------+----------------------+\n",
      "|   1  NVIDIA TITAN Xp                Off | 00000000:06:00.0 Off |                  N/A |\n",
      "| 23%   36C    P8               9W / 250W |     13MiB / 12288MiB |      0%      Default |\n",
      "|                                         |                      |                  N/A |\n",
      "+-----------------------------------------+----------------------+----------------------+\n",
      "|   2  NVIDIA TITAN Xp                Off | 00000000:09:00.0 Off |                  N/A |\n",
      "| 23%   34C    P8               9W / 250W |     13MiB / 12288MiB |      0%      Default |\n",
      "|                                         |                      |                  N/A |\n",
      "+-----------------------------------------+----------------------+----------------------+\n",
      "|   3  NVIDIA TITAN Xp                Off | 00000000:0A:00.0 Off |                  N/A |\n",
      "| 23%   33C    P8               9W / 250W |     13MiB / 12288MiB |      0%      Default |\n",
      "|                                         |                      |                  N/A |\n",
      "+-----------------------------------------+----------------------+----------------------+\n",
      "                                                                                         \n",
      "+---------------------------------------------------------------------------------------+\n",
      "| Processes:                                                                            |\n",
      "|  GPU   GI   CI        PID   Type   Process name                            GPU Memory |\n",
      "|        ID   ID                                                             Usage      |\n",
      "|=======================================================================================|\n",
      "|    0   N/A  N/A      1696      G   /usr/lib/xorg/Xorg                           59MiB |\n",
      "|    0   N/A  N/A      2646      G   /usr/lib/xorg/Xorg                          175MiB |\n",
      "|    0   N/A  N/A      2768      G   /usr/bin/gnome-shell                         28MiB |\n",
      "|    0   N/A  N/A      9377    C+G   ...ine/Engine/Binaries/Linux/UE4Editor     5550MiB |\n",
      "|    0   N/A  N/A      9658      G   /usr/lib/firefox/firefox                     13MiB |\n",
      "|    1   N/A  N/A      1696      G   /usr/lib/xorg/Xorg                            4MiB |\n",
      "|    1   N/A  N/A      2646      G   /usr/lib/xorg/Xorg                            4MiB |\n",
      "|    2   N/A  N/A      1696      G   /usr/lib/xorg/Xorg                            4MiB |\n",
      "|    2   N/A  N/A      2646      G   /usr/lib/xorg/Xorg                            4MiB |\n",
      "|    3   N/A  N/A      1696      G   /usr/lib/xorg/Xorg                            4MiB |\n",
      "|    3   N/A  N/A      2646      G   /usr/lib/xorg/Xorg                            4MiB |\n",
      "+---------------------------------------------------------------------------------------+\n"
     ]
    }
   ],
   "source": [
    "!nvidia-smi"
   ]
  },
  {
   "cell_type": "code",
   "execution_count": 5,
   "id": "02e11fa0-3f17-498b-a7be-50ffb2639639",
   "metadata": {},
   "outputs": [
    {
     "name": "stdout",
     "output_type": "stream",
     "text": [
      "Num GPUs Available:  0\n"
     ]
    }
   ],
   "source": [
    "import tensorflow as tf\n",
    "print(\"Num GPUs Available: \", len(tf.config.experimental.list_physical_devices('GPU')))"
   ]
  },
  {
   "cell_type": "code",
   "execution_count": 3,
   "id": "80c2e20b-97f3-4023-ae8c-d70d475008ea",
   "metadata": {},
   "outputs": [
    {
     "name": "stdout",
     "output_type": "stream",
     "text": [
      "INFO:tensorflow:Using MirroredStrategy with devices ('/job:localhost/replica:0/task:0/device:CPU:0',)\n"
     ]
    }
   ],
   "source": []
  },
  {
   "cell_type": "code",
   "execution_count": null,
   "id": "c3d67617-0979-43b2-909e-d83991cb53ef",
   "metadata": {},
   "outputs": [],
   "source": []
  }
 ],
 "metadata": {
  "kernelspec": {
   "display_name": "Python 3 (ipykernel)",
   "language": "python",
   "name": "python3"
  },
  "language_info": {
   "codemirror_mode": {
    "name": "ipython",
    "version": 3
   },
   "file_extension": ".py",
   "mimetype": "text/x-python",
   "name": "python",
   "nbconvert_exporter": "python",
   "pygments_lexer": "ipython3",
   "version": "3.8.10"
  }
 },
 "nbformat": 4,
 "nbformat_minor": 5
}
